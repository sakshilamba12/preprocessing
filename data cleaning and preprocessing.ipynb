{
 "cells": [
  {
   "cell_type": "markdown",
   "id": "17626284",
   "metadata": {},
   "source": [
    "# Data Cleaning and Preprocessing"
   ]
  },
  {
   "cell_type": "code",
   "execution_count": 22,
   "id": "99b638be",
   "metadata": {},
   "outputs": [
    {
     "name": "stdout",
     "output_type": "stream",
     "text": [
      "         ID  Year_Birth   Education Marital_Status   Income  Kidhome  \\\n",
      "0      5524        1957  Graduation         Single  58138.0        0   \n",
      "1      2174        1954  Graduation         Single  46344.0        1   \n",
      "2      4141        1965  Graduation       Together  71613.0        0   \n",
      "3      6182        1984  Graduation       Together  26646.0        1   \n",
      "4      5324        1981         PhD        Married  58293.0        1   \n",
      "...     ...         ...         ...            ...      ...      ...   \n",
      "2235  10870        1967  Graduation        Married  61223.0        0   \n",
      "2236   4001        1946         PhD       Together  64014.0        2   \n",
      "2237   7270        1981  Graduation       Divorced  56981.0        0   \n",
      "2238   8235        1956      Master       Together  69245.0        0   \n",
      "2239   9405        1954         PhD        Married  52869.0        1   \n",
      "\n",
      "      Teenhome Dt_Customer  Recency  MntWines  ...  NumWebVisitsMonth  \\\n",
      "0            0  04-09-2012       58       635  ...                  7   \n",
      "1            1  08-03-2014       38        11  ...                  5   \n",
      "2            0  21-08-2013       26       426  ...                  4   \n",
      "3            0  10-02-2014       26        11  ...                  6   \n",
      "4            0  19-01-2014       94       173  ...                  5   \n",
      "...        ...         ...      ...       ...  ...                ...   \n",
      "2235         1  13-06-2013       46       709  ...                  5   \n",
      "2236         1  10-06-2014       56       406  ...                  7   \n",
      "2237         0  25-01-2014       91       908  ...                  6   \n",
      "2238         1  24-01-2014        8       428  ...                  3   \n",
      "2239         1  15-10-2012       40        84  ...                  7   \n",
      "\n",
      "      AcceptedCmp3  AcceptedCmp4  AcceptedCmp5  AcceptedCmp1  AcceptedCmp2  \\\n",
      "0                0             0             0             0             0   \n",
      "1                0             0             0             0             0   \n",
      "2                0             0             0             0             0   \n",
      "3                0             0             0             0             0   \n",
      "4                0             0             0             0             0   \n",
      "...            ...           ...           ...           ...           ...   \n",
      "2235             0             0             0             0             0   \n",
      "2236             0             0             0             1             0   \n",
      "2237             0             1             0             0             0   \n",
      "2238             0             0             0             0             0   \n",
      "2239             0             0             0             0             0   \n",
      "\n",
      "      Complain  Z_CostContact  Z_Revenue  Response  \n",
      "0            0              3         11         1  \n",
      "1            0              3         11         0  \n",
      "2            0              3         11         0  \n",
      "3            0              3         11         0  \n",
      "4            0              3         11         0  \n",
      "...        ...            ...        ...       ...  \n",
      "2235         0              3         11         0  \n",
      "2236         0              3         11         0  \n",
      "2237         0              3         11         0  \n",
      "2238         0              3         11         0  \n",
      "2239         0              3         11         1  \n",
      "\n",
      "[2240 rows x 29 columns]\n"
     ]
    }
   ],
   "source": [
    "import pandas as pd\n",
    "# Load dataset (tab-separated)\n",
    "df = pd.read_csv(r\"C:\\\\Users\\\\saksh\\\\Desktop\\\\marketing_campaign.csv\",sep='\\t')\n",
    "print(df)"
   ]
  },
  {
   "cell_type": "markdown",
   "id": "eb866266",
   "metadata": {},
   "source": [
    "# Display initial info"
   ]
  },
  {
   "cell_type": "code",
   "execution_count": 23,
   "id": "99c371df",
   "metadata": {},
   "outputs": [
    {
     "name": "stdout",
     "output_type": "stream",
     "text": [
      "Initial Shape: (2240, 29)\n",
      "\n",
      "Missing values before cleaning:\n",
      " ID                      0\n",
      "Year_Birth              0\n",
      "Education               0\n",
      "Marital_Status          0\n",
      "Income                 24\n",
      "Kidhome                 0\n",
      "Teenhome                0\n",
      "Dt_Customer             0\n",
      "Recency                 0\n",
      "MntWines                0\n",
      "MntFruits               0\n",
      "MntMeatProducts         0\n",
      "MntFishProducts         0\n",
      "MntSweetProducts        0\n",
      "MntGoldProds            0\n",
      "NumDealsPurchases       0\n",
      "NumWebPurchases         0\n",
      "NumCatalogPurchases     0\n",
      "NumStorePurchases       0\n",
      "NumWebVisitsMonth       0\n",
      "AcceptedCmp3            0\n",
      "AcceptedCmp4            0\n",
      "AcceptedCmp5            0\n",
      "AcceptedCmp1            0\n",
      "AcceptedCmp2            0\n",
      "Complain                0\n",
      "Z_CostContact           0\n",
      "Z_Revenue               0\n",
      "Response                0\n",
      "dtype: int64\n"
     ]
    }
   ],
   "source": [
    "print(\"Initial Shape:\", df.shape)\n",
    "print(\"\\nMissing values before cleaning:\\n\", df.isnull().sum())"
   ]
  },
  {
   "cell_type": "markdown",
   "id": "952a188e",
   "metadata": {},
   "source": [
    "# Drop rows with missing values"
   ]
  },
  {
   "cell_type": "code",
   "execution_count": 24,
   "id": "6eac09be",
   "metadata": {},
   "outputs": [
    {
     "name": "stdout",
     "output_type": "stream",
     "text": [
      "\n",
      "Shape after dropping missing values: (2216, 29)\n"
     ]
    }
   ],
   "source": [
    "df = df.dropna()\n",
    "print(\"\\nShape after dropping missing values:\", df.shape)\n"
   ]
  },
  {
   "cell_type": "markdown",
   "id": "df37b626",
   "metadata": {},
   "source": [
    "# Remove duplicates"
   ]
  },
  {
   "cell_type": "code",
   "execution_count": 9,
   "id": "41c8f82e",
   "metadata": {},
   "outputs": [
    {
     "name": "stdout",
     "output_type": "stream",
     "text": [
      "\n",
      "Shape after dropping duplicates: (2240, 1)\n"
     ]
    }
   ],
   "source": [
    "df = df.drop_duplicates()\n",
    "print(\"\\nShape after dropping duplicates:\", df.shape)"
   ]
  },
  {
   "cell_type": "markdown",
   "id": "43becac9",
   "metadata": {},
   "source": [
    "# Standardize text columns"
   ]
  },
  {
   "cell_type": "code",
   "execution_count": 15,
   "id": "2d2a4ed2",
   "metadata": {},
   "outputs": [],
   "source": [
    "df['Education'] = df['Education'].str.title().str.strip()\n",
    "df['Marital_Status'] = df['Marital_Status'].str.upper().str.strip()"
   ]
  },
  {
   "cell_type": "markdown",
   "id": "97ea5802",
   "metadata": {},
   "source": [
    "# Convert date columns to datetime format"
   ]
  },
  {
   "cell_type": "code",
   "execution_count": 16,
   "id": "65b21cfb",
   "metadata": {},
   "outputs": [],
   "source": [
    "df['Dt_Customer'] = pd.to_datetime(df['Dt_Customer'], dayfirst=True)"
   ]
  },
  {
   "cell_type": "markdown",
   "id": "fdc0b81f",
   "metadata": {},
   "source": [
    "# Clean column names"
   ]
  },
  {
   "cell_type": "code",
   "execution_count": 17,
   "id": "8f6b4b3b",
   "metadata": {},
   "outputs": [],
   "source": [
    "df.columns = df.columns.str.lower().str.replace(\" \", \"_\").str.strip()\n"
   ]
  },
  {
   "cell_type": "markdown",
   "id": "d8c3c92b",
   "metadata": {},
   "source": [
    "# Convert data types"
   ]
  },
  {
   "cell_type": "code",
   "execution_count": 18,
   "id": "3cb537a8",
   "metadata": {},
   "outputs": [],
   "source": [
    "numeric_columns = ['income', 'kidhome', 'teenhome']\n",
    "for col in numeric_columns:\n",
    "    df[col] = pd.to_numeric(df[col], errors='coerce')"
   ]
  },
  {
   "cell_type": "markdown",
   "id": "d3711750",
   "metadata": {},
   "source": [
    "# Drop rows again if type conversion introduced NaNs"
   ]
  },
  {
   "cell_type": "code",
   "execution_count": 19,
   "id": "f08414f3",
   "metadata": {},
   "outputs": [],
   "source": [
    "df = df.dropna()"
   ]
  },
  {
   "cell_type": "markdown",
   "id": "a964220a",
   "metadata": {},
   "source": [
    "# Final shape and summary"
   ]
  },
  {
   "cell_type": "code",
   "execution_count": 20,
   "id": "c957a675",
   "metadata": {},
   "outputs": [
    {
     "name": "stdout",
     "output_type": "stream",
     "text": [
      "\n",
      "Final shape: (2216, 29)\n",
      "\n",
      "Final data types:\n",
      " id                              int64\n",
      "year_birth                      int64\n",
      "education                      object\n",
      "marital_status                 object\n",
      "income                        float64\n",
      "kidhome                         int64\n",
      "teenhome                        int64\n",
      "dt_customer            datetime64[ns]\n",
      "recency                         int64\n",
      "mntwines                        int64\n",
      "mntfruits                       int64\n",
      "mntmeatproducts                 int64\n",
      "mntfishproducts                 int64\n",
      "mntsweetproducts                int64\n",
      "mntgoldprods                    int64\n",
      "numdealspurchases               int64\n",
      "numwebpurchases                 int64\n",
      "numcatalogpurchases             int64\n",
      "numstorepurchases               int64\n",
      "numwebvisitsmonth               int64\n",
      "acceptedcmp3                    int64\n",
      "acceptedcmp4                    int64\n",
      "acceptedcmp5                    int64\n",
      "acceptedcmp1                    int64\n",
      "acceptedcmp2                    int64\n",
      "complain                        int64\n",
      "z_costcontact                   int64\n",
      "z_revenue                       int64\n",
      "response                        int64\n",
      "dtype: object\n"
     ]
    }
   ],
   "source": [
    "print(\"\\nFinal shape:\", df.shape)\n",
    "print(\"\\nFinal data types:\\n\", df.dtypes)"
   ]
  },
  {
   "cell_type": "markdown",
   "id": "db0f34c3",
   "metadata": {},
   "source": [
    "# Save cleaned dataset"
   ]
  },
  {
   "cell_type": "code",
   "execution_count": 21,
   "id": "2e089f66",
   "metadata": {},
   "outputs": [
    {
     "name": "stdout",
     "output_type": "stream",
     "text": [
      "\n",
      "Cleaned data saved to 'marketing_campaign_cleaned.csv'\n"
     ]
    }
   ],
   "source": [
    "df.to_csv(\"marketing_campaign_cleaned.csv\", index=False)\n",
    "print(\"\\nCleaned data saved to 'marketing_campaign_cleaned.csv'\")"
   ]
  }
 ],
 "metadata": {
  "kernelspec": {
   "display_name": "base",
   "language": "python",
   "name": "python3"
  },
  "language_info": {
   "codemirror_mode": {
    "name": "ipython",
    "version": 3
   },
   "file_extension": ".py",
   "mimetype": "text/x-python",
   "name": "python",
   "nbconvert_exporter": "python",
   "pygments_lexer": "ipython3",
   "version": "3.12.7"
  }
 },
 "nbformat": 4,
 "nbformat_minor": 5
}
